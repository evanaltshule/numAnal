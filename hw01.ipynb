{
 "cells": [
  {
   "cell_type": "markdown",
   "metadata": {},
   "source": [
    "# Math 104A Homework 1\n",
    "**Name.** <span style=\"color:red\">Kelly Wang</span> <br>\n",
    "**Id.** <span style=\"color:red\">5351010</span>\n",
    "\n",
    "## Exercise 1\n",
    "\n",
    "We recall the following theorems from Calculus.\n",
    "\n",
    "> **Theorem.** *(Intermediate Value Theorem)*<br>\n",
    ">  If $f$ is a continuous function on a closed interval $[a, b]$, and $c$ is any number inclusively between $f(a), f(b)$, then there is some x $\\in [a,b]$ such that $f(x) = c$.\n",
    "\n",
    "> **Theorem.** *(Mean Value Theorem)*<br>\n",
    "> If $f(x)$ is differentiable on $(a,b)$ and continuous on $[a,b]$ then there exists some $c$ in $(a,b)$ such that $$f'(c) = \\frac{f(b)-f(a)}{b-a}$$\n",
    "\n",
    "> **Theorem.** *(Rolle's Theorem)*<br>\n",
    "> Suppose $f$ is differentiable on $(a,b)$ and continuous on $[a,b]$. If $f(a) = f(b)$ then there exists some $c$ in $(a,b)$ where $f'(c) = 0$\n",
    "\n",
    "> **Theorem.** *(The Mean Value Theorem for Integrals)*<br>\n",
    "> If $f$ is continuous on $[a,b]$ then there exists at least one value $c$ in $(a,b)$ such that $$f(c) = \\frac{1}{b-a}\\int_{a}^{b}f(t)dt$$\n",
    "\n",
    "> **Theorem.** *(The Weighted Mean Value Theorem for Integrals)*<br>\n",
    ">  If $f$ is continuous on $[a,b]$ and $g$ is a function that's integratable on $[a,b]$ and does not change sign on $[a,b]$, then $$\\int_{a}^{b}f(x)g(x)dx = f(c)\\int_{a}^{b}g(x)dx$$ \n",
    "\n",
    "## Exercise 2\n",
    "\n",
    "In the following cell, we implement Python code for the Composite Trapezoid Rule.\n",
    "The function `composite_trapezoid_rule` serves to evaluate $T_h[f]$ for a given $f, a, b, N$\n",
    "\n",
    "$$ T_h[f] = h\\left( \\frac12 f(x_0) + f(x_1) + \\cdots + f(x_{N-1}) + \\frac12 f(x_N) \\right), $$\n",
    "\n",
    "where $x_0 = a, x_1 = x_0 + h, x_2 = x_0 + 2h, \\ldots, x_N = b$."
   ]
  },
  {
   "cell_type": "code",
   "execution_count": 12,
   "metadata": {},
   "outputs": [],
   "source": [
    "#Kelly Wang\n",
    "#the following serves as an overview of the composite trapezoid rule \n",
    "def trapezoid(f, a, b, n):\n",
    "    h = (b-a)/float(n)\n",
    "    val = 0.5(f(a) + f(b))\n",
    "    for i in range(1, n, 1):\n",
    "        val = val + f(a + i*h) #h, delta x, is the length of the k-th subinterval\n",
    "    return h*val\n",
    "\n",
    "#insert what f(t) does once provided "
   ]
  },
  {
   "cell_type": "markdown",
   "metadata": {},
   "source": [
    "## Exercise 3\n",
    "\n",
    "We now test our `composite_trapezoid_rule` integrator on the function $f(x) = xe^{x^2}$ by evaluating $|I[f] - T_h[f]|$ for $h = 1/10, 1/20, 1/40$, where $I[f]$ is the actual integral over the interval $[0,1]$.\n",
    "\n",
    "$$ I[f] = \\int_0^1 f(x) {\\rm d}x = \\int_0^1 xe^{x^2} {\\rm d}x $$"
   ]
  },
  {
   "cell_type": "code",
   "execution_count": 52,
   "metadata": {},
   "outputs": [
    {
     "name": "stdout",
     "output_type": "stream",
     "text": [
      "h = 1/10:  0.8650898321786331 and |I[f] - T_h[f]| =  0.005948917949110566\n",
      "h = 1/20:  0.8606306634063895 and |I[f] - T_h[f]| =  0.0014897491768669502\n",
      "h = 1/40:  0.8595135096608248 and |I[f] - T_h[f]| =  0.00037259543130230277\n"
     ]
    }
   ],
   "source": [
    "from math import* \n",
    "def f(x):\n",
    "    v = pow(x,2)\n",
    "    return x*exp(v)\n",
    "\n",
    "a = 0\n",
    "b = 1\n",
    "n1 = 10\n",
    "result1 = trapezoid(f, a, b, n1) #result 1 for h = 1/10 --> 0.8650898321786331\n",
    "diff1 = abs(0.8591409142295226 - result1)\n",
    "print (\"h = 1/10: \", result1, \"and |I[f] - T_h[f]| = \", diff1)\n",
    "\n",
    "n2 = 20\n",
    "result2 = trapezoid(f, a, b, n2) #result 2 for h = 1/20 --> 0.8606306634063895\n",
    "diff2 = abs(0.8591409142295226 - result2)\n",
    "print (\"h = 1/20: \", result2, \"and |I[f] - T_h[f]| = \", diff2)\n",
    "\n",
    "n3 = 40\n",
    "result3 = trapezoid(f, a, b, n3) #result 3 for h = 1/40 --> 0.8595135096608248\n",
    "diff3 = abs(0.8591409142295226 - result3)\n",
    "print(\"h = 1/40: \", result3 , \"and |I[f] - T_h[f]| = \", diff3)"
   ]
  },
  {
   "cell_type": "markdown",
   "metadata": {},
   "source": [
    "For some reason, I'm having issues updating python 2.7 to python 3 so I couldn't use numpy. Everytime I upgrade, it just reverts back to the default python version. I used some 3rd party source to approximate the integral and got a result of 0.8591409142295226. \n",
    "\n",
    "We know our function behaves quadratically because when we double the value for N we can see that the error reduces by 4. This makes sense because as we increase N, we can more accurately \"slice\" the function into smaller trapezoids and thus reducing the amount of over calculation or under calculation. This then confirms that $T_h$ has a convergent trend at the expected quadratic rate since whenever N doubles in size, our error also reduces by four times. In other words, the more trapezoids we make, the more accurate our approximation becomes. "
   ]
  },
  {
   "cell_type": "markdown",
   "metadata": {},
   "source": [
    "## Exercise 4.\n",
    "\n",
    "We consider the function $g$, defined by $g(x) = e^{-x^2}$.\n",
    "As the course notes indicate, $T_h[g]$ is a good approximation for $I[g]$ when $h$ satisfies\n",
    "\n",
    "$$ q(h) = \\frac{T_{h/2}[g]-T_h[g]}{T_{h/4}[g] - T_{h/2}[g]} = 4 $$\n",
    "\n",
    "Using `composite_trapezoid_rule`, we find a value of $h$ that approximately satisfies the equality above, "
   ]
  },
  {
   "cell_type": "code",
   "execution_count": 128,
   "metadata": {},
   "outputs": [
    {
     "name": "stdout",
     "output_type": "stream",
     "text": [
      "test 1:  4.000012502684125\n",
      "test 2:  4.000001284418145\n",
      "test 3:  4.000050218353263\n",
      "test 4:  4.000000313861476\n",
      "test 5:  4.000000754040135\n",
      "test 6:  4.0000014471428145\n",
      "test 7:  4.0000010410543805\n",
      "h = 1/500:  0.7468240714991843 I[g] - T_h[g] =  6.131324270519656e-08\n"
     ]
    }
   ],
   "source": [
    "def g(x):\n",
    "    return exp(-x**2)\n",
    "def q(n):\n",
    "    a = 0\n",
    "    b = 1\n",
    "    top = trapezoid(g, a, b, 2*n) - trapezoid(g, a, b, n)\n",
    "    bottom = trapezoid(g, a, b, 4*n) - trapezoid(g, a, b, 2*n)\n",
    "    return top/bottom\n",
    "\n",
    "test1 = q(100)\n",
    "print (\"test 1: \", test1)\n",
    "\n",
    "test2 = q(1000)\n",
    "print (\"test 2: \", test2)\n",
    "\n",
    "test3 = q(10000)\n",
    "print (\"test 3: \", test3)\n",
    "\n",
    "test4 = q(500)\n",
    "print (\"test 4: \",test4)\n",
    "\n",
    "test5 = q(400)\n",
    "print (\"test 5: \", test5)\n",
    "\n",
    "test6 = q(300)\n",
    "print (\"test 6: \", test6)\n",
    "\n",
    "test7 = q(350)\n",
    "print (\"test 7: \", test7)\n",
    "\n",
    "#for part (a)\n",
    "result = trapezoid(g, 0, 1, 1000)\n",
    "diff = 0.746824132812427 - result\n",
    "print(\"h = 1/500: \", result, \"I[g] - T_h[g] = \", diff)"
   ]
  },
  {
   "cell_type": "markdown",
   "metadata": {},
   "source": [
    "After some trial and error it seems like when $n = 500$ or $h = \\frac{1}{500}$ we get the closest approximation to $q(h) = 4$.\n",
    ">*(a)* We get an approximated error value of $6.131324270519656e-08$ when $h = \\frac{1}{500}$ <br>\n",
    ">*(b)* Below, we encode the *extrapolated* approximation $S_h$\n",
    "\n",
    "$$ S_h[f] = T_h[f] + \\frac43 \\Big( T_{h/2}[f] - T_h[f] \\Big) $$"
   ]
  },
  {
   "cell_type": "code",
   "execution_count": 123,
   "metadata": {},
   "outputs": [
    {
     "name": "stdout",
     "output_type": "stream",
     "text": [
      "for n = 100\n",
      "trapezoid : 0.7468180014679697 \n",
      "S[f] : 0.7468241328175365\n",
      "error approximation with trapezoid rule:  6.131344457260823e-06\n",
      "error approximation with function s  5.1094684039298954e-12 \n",
      "\n",
      "for n = 500\n",
      "trapezoid : 0.7468238875594331 \n",
      "S[f] : 0.7468241328124346\n",
      "error approximation with trapezoid rule:  2.4525299391342514e-07\n",
      "error approximation with function s  7.66053886991358e-15 \n",
      "\n"
     ]
    }
   ],
   "source": [
    "def s(n):\n",
    "    return (trapezoid(g, 0, 1, n) + 4/3*(trapezoid(g, 0, 1, n*2) - trapezoid(g, 0, 1, n)))\n",
    "\n",
    "t_res1 = trapezoid(g, 0, 1, 100)\n",
    "s_res1 = s(100)\n",
    "print(\"for n = 100\\ntrapezoid :\", t_res1, \"\\nS[f] :\", s_res1)\n",
    "print(\"error approximation with trapezoid rule: \", 0.746824132812427 - t_res1)\n",
    "print(\"error approximation with function s \", abs(0.746824132812427 - s_res1), \"\\n\")\n",
    "\n",
    "t_res2 = trapezoid(g, 0, 1, 500)\n",
    "s_res2 = s(500)\n",
    "print(\"for n = 500\\ntrapezoid :\", t_res2, \"\\nS[f] :\", s_res2)\n",
    "print(\"error approximation with trapezoid rule: \", 0.746824132812427 - t_res2)\n",
    "print(\"error approximation with function s \", abs(0.746824132812427 - s_res2), \"\\n\")"
   ]
  },
  {
   "cell_type": "markdown",
   "metadata": {},
   "source": [
    "The reason S is more accurate and converges faster to I is because it's an error correction technique. It eliminates the leading order contribution to the error so the current order will be more accurate. As we've seen earlier how the trapezoid rule is quadratic, function S assumes the constant to be $\\frac{4}{3}$. "
   ]
  }
 ],
 "metadata": {
  "kernelspec": {
   "display_name": "Python 3",
   "language": "python",
   "name": "python3"
  },
  "language_info": {
   "codemirror_mode": {
    "name": "ipython",
    "version": 3
   },
   "file_extension": ".py",
   "mimetype": "text/x-python",
   "name": "python",
   "nbconvert_exporter": "python",
   "pygments_lexer": "ipython3",
   "version": "3.6.3"
  }
 },
 "nbformat": 4,
 "nbformat_minor": 2
}
