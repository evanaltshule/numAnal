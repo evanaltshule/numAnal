{
 "cells": [
  {
   "cell_type": "markdown",
   "metadata": {},
   "source": [
    "# Math 104A Homework 1\n",
    "**Name.** <span style=\"color:red\">Kelly Wang</span> <br>\n",
    "**Id.** <span style=\"color:red\">5351010</span>\n",
    "\n",
    "## Exercise 1\n",
    "\n",
    "We recall the following theorems from Calculus.\n",
    "\n",
    "> **Theorem.** *(Intermediate Value Theorem)*<br>\n",
    ">  If $f$ is a continuous function on a closed interval $[a, b]$, and $c$ is any number inclusively between $f(a), f(b)$, then there is some x $\\in [a,b]$ such that $f(x) = c$.\n",
    "\n",
    "> **Theorem.** *(Mean Value Theorem)*<br>\n",
    "> If $f(x)$ is differentiable on $(a,b)$ and continuous on $[a,b]$ then there exists at least one value $c$ in $(a,b)$ such that $$f'(c) = \\frac{f(b)-f(a)}{b-a}$$\n",
    "\n",
    "> **Theorem.** *(Rolle's Theorem)*<br>\n",
    "> Suppose $f$ is differentiable on $(a,b)$ and continuous on $[a,b]$. If $f(a) = f(b)$ then there exists at least value $c$ in $(a,b)$ where $f'(c) = 0$\n",
    "\n",
    "> **Theorem.** *(The Mean Value Theorem for Integrals)*<br>\n",
    "> If $f$ is continuous on $[a,b]$ then there exists at least one value $c$ in $(a,b)$ such that $$f(c) = \\frac{1}{b-a}\\int_{a}^{b}f(t)dt$$\n",
    "\n",
    "> **Theorem.** *(The Weighted Mean Value Theorem for Integrals)*<br>\n",
    ">  If $f$ is continuous on $[a,b]$ and $g$ is a function that's integratable on $[a,b]$ and does not change sign on $[a,b]$, then $$\\int_{a}^{b}f(x)g(x)dx = f(c)\\int_{a}^{b}g(x)dx$$ \n",
    "\n",
    "## Exercise 2\n",
    "\n",
    "In the following cell, we implement Python code for the Composite Trapezoid Rule.\n",
    "The function `composite_trapezoid_rule` serves to evaluate $T_h[f]$ for a given $f, a, b, N$\n",
    "\n",
    "$$ T_h[f] = h\\left( \\frac12 f(x_0) + f(x_1) + \\cdots + f(x_{N-1}) + \\frac12 f(x_N) \\right), $$\n",
    "\n",
    "where $x_0 = a, x_1 = x_0 + h, x_2 = x_0 + 2h, \\ldots, x_N = b$."
   ]
  },
  {
   "cell_type": "code",
   "execution_count": null,
   "metadata": {},
   "outputs": [],
   "source": []
  },
  {
   "cell_type": "code",
   "execution_count": null,
   "metadata": {},
   "outputs": [],
   "source": []
  }
 ],
 "metadata": {
  "kernelspec": {
   "display_name": "Python 3",
   "language": "python",
   "name": "python3"
  },
  "language_info": {
   "codemirror_mode": {
    "name": "ipython",
    "version": 3
   },
   "file_extension": ".py",
   "mimetype": "text/x-python",
   "name": "python",
   "nbconvert_exporter": "python",
   "pygments_lexer": "ipython3",
   "version": "3.6.3"
  }
 },
 "nbformat": 4,
 "nbformat_minor": 2
}
